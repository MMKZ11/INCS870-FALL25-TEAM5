{
  "nbformat": 4,
  "nbformat_minor": 0,
  "metadata": {
    "colab": {
      "provenance": []
    },
    "kernelspec": {
      "name": "python3",
      "display_name": "Python 3"
    },
    "language_info": {
      "name": "python"
    }
  },
  "cells": [
    {
      "cell_type": "code",
      "execution_count": 1,
      "metadata": {
        "id": "UNpJJWv5gQ11"
      },
      "outputs": [],
      "source": [
        "# ===== 依赖（第一次缺库时打开） =====\n",
        "# !pip -q install pandas numpy pyarrow scikit-learn tqdm\n",
        "\n",
        "import os, gc, json, re, math, random\n",
        "from pathlib import Path\n",
        "from typing import Optional, Dict, Tuple\n",
        "\n",
        "import numpy as np\n",
        "import pandas as pd\n",
        "from tqdm import tqdm\n",
        "\n",
        "import pyarrow as pa\n",
        "import pyarrow.parquet as pq"
      ]
    },
    {
      "cell_type": "code",
      "source": [
        "# ===== 配置区：按需修改 =====\n",
        "DATA_ROOT = Path(\"data\")   # 你的各类CSV所在根目录\n",
        "\n",
        "# 先用代表性子集跑通；之后加到全量\n",
        "FOLDERS = [\n",
        "    \"Benign_Final\",\n",
        "    \"DDoS-UDP_Flood\", \"DDoS-TCP_Flood\",\n",
        "    \"DoS-SYN_Flood\",\n",
        "    \"Recon-PortScan\",\n",
        "    \"SQLInjection\",           # 如果抓不到，真实目录可能是 SQL_Injection\n",
        "    \"XSS\",\n",
        "    \"Backdoor_Malware\",\n",
        "    \"Mirai-udpplain\",\n",
        "    \"VulnerabilityScan\"\n",
        "]\n",
        "\n",
        "TASK_MODE = \"multiclass\"       # 或 \"binary\"（Benign vs Attack）\n",
        "BENIGN_PATTERN = re.compile(r\"benign\", re.I)\n",
        "\n",
        "# 读取相关\n",
        "READ_CHUNK = 200_000           # 每次读20万行，内存稳一些；可 100k~300k 微调\n",
        "PER_CLASS_LIMIT = None         # 每类最多读取的样本数（None 表示不限制）\n",
        "SEED = 42\n",
        "random.seed(SEED); np.random.seed(SEED)\n",
        "\n",
        "# 需要删除的潜在泄漏/无用列（存在就删）\n",
        "POSSIBLE_LEAK_COLS = [\n",
        "    \"Flow_ID\",\"FlowID\",\"Flow Id\",\"Flow_IDs\",\n",
        "    \"Src_IP\",\"Dst_IP\",\"SourceIP\",\"DestinationIP\",\n",
        "    \"Timestamp\",\"Timestamp_Start\",\"Timestamp_End\",\"TimestampStart\",\"TimestampEnd\",\n",
        "    \"Label\",\"Attack_type\",\"AttackType\",\"Cat\"\n",
        "]\n",
        "DROP_PREFIXES = [\"Unnamed:\"]   # 自动删掉 Unnamed:* 列\n",
        "\n",
        "# 输出文件\n",
        "OUT_TRAIN = Path(\"data/train.parquet\")\n",
        "OUT_VAL   = Path(\"data/val.parquet\")\n",
        "OUT_TEST  = Path(\"data/test.parquet\")\n",
        "OUT_META  = Path(\"data/ciciot2023_split_meta.json\")\n",
        "SAMPLE_1K = Path(\"data/sample_1k.parquet\")   # 可选：保存一个1k小样本\n",
        "\n",
        "# 切分比例\n",
        "RATIO_TRAIN, RATIO_VAL, RATIO_TEST = 0.70, 0.15, 0.15\n",
        "assert abs(RATIO_TRAIN + RATIO_VAL + RATIO_TEST - 1.0) < 1e-6\n"
      ],
      "metadata": {
        "id": "gUPwdQ8DyxCD"
      },
      "execution_count": 2,
      "outputs": []
    },
    {
      "cell_type": "code",
      "source": [
        "# ===== 工具函数 =====\n",
        "\n",
        "def sanitize_chunk(df: pd.DataFrame) -> pd.DataFrame:\n",
        "    \"\"\"删除多余列，数值列转 float32，去无限值/缺失。\"\"\"\n",
        "    # 删 Unnamed:* 列\n",
        "    drop_cols = [c for c in df.columns if any(c.startswith(p) for p in DROP_PREFIXES)]\n",
        "    df = df.drop(columns=drop_cols, errors=\"ignore\")\n",
        "    # 删泄漏列\n",
        "    leak_cols = [c for c in POSSIBLE_LEAK_COLS if c in df.columns]\n",
        "    if leak_cols:\n",
        "        df = df.drop(columns=leak_cols, errors=\"ignore\")\n",
        "    # 数值统一 float32\n",
        "    num_cols = df.select_dtypes(include=[\"number\"]).columns\n",
        "    if len(num_cols):\n",
        "        df[num_cols] = df[num_cols].replace([np.inf, -np.inf], np.nan)\n",
        "        df[num_cols] = df[num_cols].astype(\"float32\")\n",
        "        # 简单填充缺失为列中位数（对每个chunk做）\n",
        "        df[num_cols] = df[num_cols].fillna(df[num_cols].median())\n",
        "    # 其余非数值列（除了 label）如果还存在，先丢弃避免 schema 不一致\n",
        "    # （CICIoT 大多是数值特征，保留 label 即可）\n",
        "    keep = list(num_cols) + ([\"label\"] if \"label\" in df.columns else [])\n",
        "    df = df[keep] if keep else df\n",
        "    return df\n",
        "\n",
        "def assign_split_mask(n: int) -> np.ndarray:\n",
        "    \"\"\"返回长度为 n 的 {0,1,2} 数组，分别代表 train/val/test。\"\"\"\n",
        "    return np.random.choice(\n",
        "        np.array([0,1,2], dtype=np.int8),\n",
        "        size=n,\n",
        "        p=[RATIO_TRAIN, RATIO_VAL, RATIO_TEST]\n",
        "    )\n",
        "\n",
        "def ensure_schema_and_reindex(df: pd.DataFrame, all_cols: Optional[list]) -> Tuple[pd.DataFrame, list]:\n",
        "    \"\"\"保证每个chunk列顺序一致；首次出现时记录列名，之后按该顺序补列。\"\"\"\n",
        "    if all_cols is None:\n",
        "        all_cols = [c for c in df.columns if c != \"label\"] + ([\"label\"] if \"label\" in df.columns else [])\n",
        "        return df[all_cols], all_cols\n",
        "    missing = [c for c in all_cols if c not in df.columns]\n",
        "    if missing:\n",
        "        for m in missing:\n",
        "            df[m] = np.nan\n",
        "    # 可能有多余列（意外），也按 all_cols 选择\n",
        "    df = df[all_cols]\n",
        "    return df, all_cols\n",
        "\n",
        "class SplitWriters:\n",
        "    \"\"\"封装三个 ParquetWriter，支持增量写入。\"\"\"\n",
        "    def __init__(self, out_train: Path, out_val: Path, out_test: Path):\n",
        "        self.paths = [out_train, out_val, out_test]\n",
        "        self.writers = [None, None, None]\n",
        "        self.schema = None\n",
        "        self.counts = [0, 0, 0]   # 行数计数\n",
        "        # 如果目标文件已存在，先删\n",
        "        for p in self.paths:\n",
        "            if p.exists(): p.unlink()\n",
        "\n",
        "    def write(self, df: pd.DataFrame, split_id: int):\n",
        "        # 转 Arrow Table\n",
        "        table = pa.Table.from_pandas(df, preserve_index=False)\n",
        "        if self.schema is None:\n",
        "            self.schema = table.schema\n",
        "        # 首次创建 writer\n",
        "        if self.writers[split_id] is None:\n",
        "            self.writers[split_id] = pq.ParquetWriter(self.paths[split_id], self.schema, compression=\"zstd\")\n",
        "        self.writers[split_id].write_table(table)\n",
        "        self.counts[split_id] += df.shape[0]\n",
        "\n",
        "    def close(self):\n",
        "        for w in self.writers:\n",
        "            if w is not None:\n",
        "                w.close()\n",
        "\n",
        "def label_from_folder(folder_name: str) -> str:\n",
        "    if TASK_MODE == \"binary\":\n",
        "        return \"Benign\" if BENIGN_PATTERN.search(folder_name) else \"Attack\"\n",
        "    return folder_name\n"
      ],
      "metadata": {
        "id": "TaqSvDZiyyAx"
      },
      "execution_count": 3,
      "outputs": []
    },
    {
      "cell_type": "code",
      "source": [
        "# ===== 主流程：逐类、逐块处理，并直接写入 train/val/test.parquet =====\n",
        "all_feature_cols = None\n",
        "writers = SplitWriters(OUT_TRAIN, OUT_VAL, OUT_TEST)\n",
        "classes_seen = []\n",
        "\n",
        "for cname in FOLDERS:\n",
        "    fdir = DATA_ROOT / cname\n",
        "    if not fdir.exists():\n",
        "        print(f\"[skip] {cname} 不存在\")\n",
        "        continue\n",
        "\n",
        "    print(f\"==> Processing class: {cname}\")\n",
        "    classes_seen.append(label_from_folder(cname))\n",
        "\n",
        "    total_got = 0\n",
        "    csv_files = sorted(list(fdir.glob(\"*.csv\")))\n",
        "    if not csv_files:\n",
        "        print(f\"warn: {cname} has no csv\")\n",
        "        continue\n",
        "\n",
        "    for csv in csv_files:\n",
        "        try:\n",
        "            for chunk in pd.read_csv(csv, chunksize=READ_CHUNK, low_memory=False):\n",
        "                # 加标签\n",
        "                chunk[\"label\"] = label_from_folder(cname)\n",
        "                # 清洗/统一类型\n",
        "                chunk = sanitize_chunk(chunk)\n",
        "                # 与全局列对齐\n",
        "                chunk, all_feature_cols = ensure_schema_and_reindex(chunk, all_feature_cols)\n",
        "\n",
        "                # 分配切分（类内按比例）\n",
        "                mask = assign_split_mask(len(chunk))\n",
        "                # 分别写入三个文件\n",
        "                for sid in (0,1,2):  # 0-train,1-val,2-test\n",
        "                    part = chunk[mask == sid]\n",
        "                    if len(part):\n",
        "                        writers.write(part, sid)\n",
        "\n",
        "                total_got += len(chunk)\n",
        "                # 达到每类上限则提前停止\n",
        "                if PER_CLASS_LIMIT is not None and total_got >= PER_CLASS_LIMIT:\n",
        "                    break\n",
        "            if PER_CLASS_LIMIT is not None and total_got >= PER_CLASS_LIMIT:\n",
        "                break\n",
        "        except Exception as e:\n",
        "            print(\"!! read fail:\", csv, e)\n",
        "            continue\n",
        "\n",
        "    print(f\"{cname}: written ~{total_got:,} rows\")\n",
        "\n",
        "writers.close()\n",
        "print(\"写入完成：\")\n",
        "print(\" train rows =\", writers.counts[0])\n",
        "print(\"   val rows =\", writers.counts[1])\n",
        "print(\"  test rows =\", writers.counts[2])\n",
        "print(\" n_features (w/o label) =\", (len(all_feature_cols)-1) if all_feature_cols else None)\n"
      ],
      "metadata": {
        "colab": {
          "base_uri": "https://localhost:8080/"
        },
        "id": "g3KDKI0Gy2Y4",
        "outputId": "c9f16da0-0ecd-46de-a2a6-35b299cef647"
      },
      "execution_count": 4,
      "outputs": [
        {
          "output_type": "stream",
          "name": "stdout",
          "text": [
            "==> Processing class: Benign_Final\n",
            "Benign_Final: written ~1,098,191 rows\n",
            "==> Processing class: DDoS-UDP_Flood\n",
            "DDoS-UDP_Flood: written ~5,412,231 rows\n",
            "==> Processing class: DDoS-TCP_Flood\n",
            "DDoS-TCP_Flood: written ~4,497,649 rows\n",
            "==> Processing class: DoS-SYN_Flood\n",
            "DoS-SYN_Flood: written ~2,028,836 rows\n",
            "==> Processing class: Recon-PortScan\n",
            "Recon-PortScan: written ~82,284 rows\n",
            "[skip] SQLInjection 不存在\n",
            "==> Processing class: XSS\n",
            "XSS: written ~3,846 rows\n",
            "==> Processing class: Backdoor_Malware\n",
            "Backdoor_Malware: written ~3,218 rows\n",
            "==> Processing class: Mirai-udpplain\n",
            "Mirai-udpplain: written ~890,574 rows\n",
            "==> Processing class: VulnerabilityScan\n",
            "VulnerabilityScan: written ~373,351 rows\n",
            "写入完成：\n",
            " train rows = 10073978\n",
            "   val rows = 2158123\n",
            "  test rows = 2158079\n",
            " n_features (w/o label) = 39\n"
          ]
        }
      ]
    },
    {
      "cell_type": "code",
      "source": [
        "# ===== 保存元数据 & 快速抽样 =====\n",
        "meta = dict(\n",
        "    task_mode=TASK_MODE,\n",
        "    class_names=sorted(set(classes_seen)) if TASK_MODE==\"multiclass\" else [\"Attack\",\"Benign\"],\n",
        "    seed=SEED,\n",
        "    folders=FOLDERS,\n",
        "    ratios=dict(train=RATIO_TRAIN, val=RATIO_VAL, test=RATIO_TEST),\n",
        "    shapes=dict(train=writers.counts[0], val=writers.counts[1], test=writers.counts[2]),\n",
        "    files=dict(train=str(OUT_TRAIN), val=str(OUT_VAL), test=str(OUT_TEST)),\n",
        ")\n",
        "with open(OUT_META, \"w\") as f:\n",
        "    json.dump(meta, f, indent=2)\n",
        "print(\"已保存元数据：\", OUT_META)\n",
        "\n",
        "# 保存一个1k的小样本方便调试（从train里取）\n",
        "try:\n",
        "    df_head = pd.read_parquet(OUT_TRAIN, engine=\"pyarrow\", columns=None, filters=None).sample(\n",
        "        n=min(1000, writers.counts[0]), random_state=SEED\n",
        "    )\n",
        "    df_head.to_parquet(SAMPLE_1K)\n",
        "    print(\"已保存小样本：\", SAMPLE_1K)\n",
        "except Exception as e:\n",
        "    print(\"保存小样本失败：\", e)\n"
      ],
      "metadata": {
        "colab": {
          "base_uri": "https://localhost:8080/"
        },
        "id": "wbyCGmYty4MO",
        "outputId": "97577abf-d39e-4379-8903-70937f13893c"
      },
      "execution_count": 5,
      "outputs": [
        {
          "output_type": "stream",
          "name": "stdout",
          "text": [
            "已保存元数据： data/ciciot2023_split_meta.json\n",
            "已保存小样本： data/sample_1k.parquet\n"
          ]
        }
      ]
    },
    {
      "cell_type": "code",
      "source": [
        "# ===== 简单可视化：训练集各类样本数（若是二分类，就显示2类） =====\n",
        "import matplotlib.pyplot as plt\n",
        "\n",
        "# 只读少量（或全部）train 统计标签分布；这里直接全部读train的'label'列统计\n",
        "train_labels = pd.read_parquet(OUT_TRAIN, columns=[\"label\"])\n",
        "counts = train_labels[\"label\"].value_counts().sort_index()\n",
        "\n",
        "plt.figure(figsize=(8,3))\n",
        "plt.bar(range(len(counts)), counts.values)\n",
        "plt.xticks(range(len(counts)), counts.index, rotation=45, ha='right')\n",
        "plt.title(\"Train split class counts\")\n",
        "plt.tight_layout(); plt.show()\n",
        "\n",
        "print(\"完成。接下来在 100/110/120/130 里直接读取：\")\n",
        "print(\" - data/train.parquet, data/val.parquet, data/test.parquet\")\n",
        "print(\" - data/ciciot2023_split_meta.json (拿到 class_names 和 task_mode)\")\n"
      ],
      "metadata": {
        "colab": {
          "base_uri": "https://localhost:8080/",
          "height": 361
        },
        "id": "W2hFzwaNy6Is",
        "outputId": "59e6a6d8-a853-4c16-ffd7-606271ae6efb"
      },
      "execution_count": 6,
      "outputs": [
        {
          "output_type": "display_data",
          "data": {
            "text/plain": [
              "<Figure size 800x300 with 1 Axes>"
            ],
            "image/png": "[encoded data removed]"
          },
          "metadata": {}
        },
        {
          "output_type": "stream",
          "name": "stdout",
          "text": [
            "完成。接下来在 100/110/120/130 里直接读取：\n",
            " - data/train.parquet, data/val.parquet, data/test.parquet\n",
            " - data/ciciot2023_split_meta.json (拿到 class_names 和 task_mode)\n"
          ]
        }
      ]
    },
    {
      "cell_type": "code",
      "source": [
        "# 只需在 001 跑一次\n",
        "from google.colab import drive\n",
        "drive.mount('/content/drive')\n",
        "\n",
        "import shutil, os\n",
        "SRC = \"/content/data\"\n",
        "DST = \"/content/drive/MyDrive/INCS870/data\"\n",
        "os.makedirs(DST, exist_ok=True)\n",
        "\n",
        "for fn in [\"train.parquet\",\"val.parquet\",\"test.parquet\",\"ciciot2023_split_meta.json\"]:\n",
        "    if os.path.exists(f\"{SRC}/{fn}\"):\n",
        "        shutil.copy(f\"{SRC}/{fn}\", f\"{DST}/{fn}\")\n",
        "        print(\"copied:\", fn)\n"
      ],
      "metadata": {
        "colab": {
          "base_uri": "https://localhost:8080/"
        },
        "id": "2EbklWpO0pho",
        "outputId": "fd888081-be00-4275-ac2e-ab7a2f77d810"
      },
      "execution_count": 7,
      "outputs": [
        {
          "output_type": "stream",
          "name": "stdout",
          "text": [
            "Drive already mounted at /content/drive; to attempt to forcibly remount, call drive.mount(\"/content/drive\", force_remount=True).\n",
            "copied: train.parquet\n",
            "copied: val.parquet\n",
            "copied: test.parquet\n",
            "copied: ciciot2023_split_meta.json\n"
          ]
        }
      ]
    }
  ]
}